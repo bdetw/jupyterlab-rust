{
  "nbformat": 4,
  "nbformat_minor": 0,
  "metadata": {
    "colab": {
      "name": "Taipei Blockchain Meetup 20200728",
      "provenance": [],
      "collapsed_sections": [],
      "toc_visible": true
    },
    "kernelspec": {
      "name": "python3",
      "display_name": "Python 3"
    }
  },
  "cells": [
    {
      "cell_type": "markdown",
      "metadata": {
        "id": "hXuVrOBk6xip",
        "colab_type": "text"
      },
      "source": [
        "# Rust 101 零基礎幼幼班\n",
        "## [台北區塊鏈社群](https://www.meetup.com//Taipei-Blockchain/) 20200728 小聚\n",
        "![](https://secure.meetupstatic.com/photos/event/e/3/8/d/highres_491038253.jpeg)\n"
      ]
    },
    {
      "cell_type": "markdown",
      "metadata": {
        "id": "9dmVhET3fVmQ",
        "colab_type": "text"
      },
      "source": [
        "## 敏捷軟體開發宣言\n",
        "藉著親自並協助他人進行軟體開發，我們正致力於發掘更優良的軟體開發方法。\n",
        "\n",
        "透過這樣的努力，我們已建立以下價值觀:\n",
        "\n",
        "> 個人與互動 重於 流程與工具\n",
        "\n",
        "> 可用的軟體 重於 詳盡的文件\n",
        "\n",
        "> 與客戶合作 重於 合約協商\n",
        "\n",
        "> 回應變化 重於 遵循計劃  \n",
        "\n",
        "也就是說，雖然右側項目有其價值，但我們更重視左側項目。"
      ]
    },
    {
      "cell_type": "markdown",
      "metadata": {
        "id": "mutR26q4TEv1",
        "colab_type": "text"
      },
      "source": [
        "## 第一個 Rust 程式\n",
        "\n",
        "第一個程式就用 println!() 這個函數 來跟大家打招呼吧！"
      ]
    },
    {
      "cell_type": "code",
      "metadata": {
        "id": "RxJRjUyXT7cS",
        "colab_type": "code",
        "colab": {
          "base_uri": "https://localhost:8080/",
          "height": 34
        },
        "outputId": "82d1094c-de34-4d58-969f-128864b414bb"
      },
      "source": [
        "// 自我練習，在下方輸入程式碼\n",
        "\n",
        "println!(\"Hi! Everbody\");"
      ],
      "execution_count": null,
      "outputs": [
        {
          "output_type": "stream",
          "text": [
            "Hi! Everbody\n"
          ],
          "name": "stdout"
        }
      ]
    },
    {
      "cell_type": "markdown",
      "metadata": {
        "id": "lhHFoEZ3J3DK",
        "colab_type": "text"
      },
      "source": [
        "## 1.變數(variable)與資料型態(data type)\n",
        "\n",
        "在程式語言中，變數 (variable) 的作用在於使用資料 (data)。在程式碼中，程式透過變數來引用資料。\n",
        "\n",
        "Rust 的變數名稱規範：\n",
        "\n",
        "* 第一個字元為英文或底線 _\n",
        "* 第二個之後的字元為英文、數字或底線\n",
        "* 只有單一的底線 _ 不是變數"
      ]
    },
    {
      "cell_type": "code",
      "metadata": {
        "id": "Vt95s2A2cCK6",
        "colab_type": "code",
        "colab": {}
      },
      "source": [
        "// 雙斜線為單行註解用\n",
        "\n",
        "// 將變數 x 的值設為 8\n",
        "// let 是 Rust 的關鍵字，其作用為宣告變數\n",
        "let x = 8;\n",
        "\n",
        "// 印出 x 的值\n",
        "//\"Hello, {}\" 的寫法是格式化輸出的功能，可在後面傳入變數或資料。\n",
        "println!(\"x = {}\", x);"
      ],
      "execution_count": null,
      "outputs": []
    },
    {
      "cell_type": "code",
      "metadata": {
        "id": "uSxwR-x7feee",
        "colab_type": "code",
        "colab": {}
      },
      "source": [
        "// 自我練習，在下方輸入程式碼\n",
        "\n"
      ],
      "execution_count": null,
      "outputs": []
    },
    {
      "cell_type": "code",
      "metadata": {
        "id": "FbTWI5qTgu9O",
        "colab_type": "code",
        "colab": {}
      },
      "source": [
        "// 將變數 x 的值設為 88\n",
        "x = 88;\n",
        "println!(\"x = {}\", x);"
      ],
      "execution_count": null,
      "outputs": []
    },
    {
      "cell_type": "markdown",
      "metadata": {
        "id": "R3OXm3CagzOg",
        "colab_type": "text"
      },
      "source": [
        "Rust 和許多程式語言不同，在預設情形下，變數一旦賦值後就不能改變。\n",
        "\n",
        "因此 Rust 要求程式開發者必需明確指出某個變數是可變的 (mutable)，才能在賦值後再進行變更。"
      ]
    },
    {
      "cell_type": "code",
      "metadata": {
        "id": "kv2a--WLMbnQ",
        "colab_type": "code",
        "colab": {
          "base_uri": "https://localhost:8080/",
          "height": 87
        },
        "outputId": "f299486b-f5f1-4f1c-dcde-14f5230df1e0"
      },
      "source": [
        "// 將可變的變數 y 的值設為 88\n",
        "// mut 是 Rust 的關鍵字，其作用為宣告變數為可變的\n",
        "let mut y = 88;\n",
        "println!(\"y = {}\", y);\n",
        "\n",
        "/*\n",
        "由斜線及星號所包含的內容為多行註解\n",
        "將變數 x 的值設為 888\n",
        "*/\n",
        "\n",
        "y = 888;\n",
        "println!(\"y = {}\", y);"
      ],
      "execution_count": null,
      "outputs": [
        {
          "output_type": "stream",
          "text": [
            "8\n",
            "88\n",
            "發發發\n",
            "5168\n"
          ],
          "name": "stdout"
        }
      ]
    },
    {
      "cell_type": "code",
      "metadata": {
        "id": "OljIXyWB0WG2",
        "colab_type": "code",
        "colab": {
          "base_uri": "https://localhost:8080/",
          "height": 87
        },
        "outputId": "13f001f6-d759-4f58-edeb-e296911716dc"
      },
      "source": [
        "// 自我練習，在下方輸入程式碼\n",
        "\n"
      ],
      "execution_count": null,
      "outputs": [
        {
          "output_type": "stream",
          "text": [
            "8\n",
            "88\n",
            "發發發\n",
            "100000\n"
          ],
          "name": "stdout"
        }
      ]
    },
    {
      "cell_type": "markdown",
      "metadata": {
        "id": "1uCzlV5RliNM",
        "colab_type": "text"
      },
      "source": [
        "我們在前面的程式中，使用了 Rust 的變數宣告，卻沒有明確指定 Rust 的型別 (type)，這是因為 Rust 可自動推斷變數的型別。\n",
        "\n",
        "Rust 就像大部分的程式語言，定義許多的型別。在程式設計中，資料型別規範該資料在程式中允許的操作，像是數字可以加、減、乘、除，字串可以相接等。Rust 定義了數個基礎型別 (primitive types)。除此之外，使用者也可以新增新的型別和其相關的操作。\n",
        "\n",
        "如果 Rust 可正確推斷型別時，不需明確給定型別，但有時仍要明確給定型別，故我們在撰寫 Rust 程式時仍然要有型別的概念。"
      ]
    },
    {
      "cell_type": "markdown",
      "metadata": {
        "id": "yheQhiHIFL8q",
        "colab_type": "text"
      },
      "source": [
        "在 Rust 中，變數可以進一步被分為不同的形態，以下介紹四種比較常用的型態：\n",
        "\n",
        "---\n",
        "整數\n",
        "\n",
        "浮點數\n",
        "\n",
        "字串\n",
        "\n",
        "多元數組\n",
        "\n",
        "陣列\n"
      ]
    },
    {
      "cell_type": "markdown",
      "metadata": {
        "id": "J0jegH53RVct",
        "colab_type": "text"
      },
      "source": [
        "### 1.1 **整數** 與 **浮點數**\n",
        "\n",
        "**整數** 與 **浮點數** 都是屬於數值資料型態：\n",
        "\n",
        "整數型別可再細分為下列類型與大小，預設為 i32\n",
        "1. 有號整數（signed integers）：i8，i16，i32，i64和 isize\n",
        "2. 無號整數（unsigned integers）：u8，u16，u64和 usize\n",
        "\n",
        "\n",
        "\n",
        "\n",
        "浮點數型別可在分為 f32, f64 兩種大小，預設為 f64"
      ]
    },
    {
      "cell_type": "code",
      "metadata": {
        "id": "e3D5G5nXpumd",
        "colab_type": "code",
        "colab": {}
      },
      "source": [
        "/*\n",
        "設定變數型別的主要方式有二種：\n",
        "1.在初始值接變數型別\n",
        "2.在宣告變數時用冒號在變數名稱後方指定變數型別\n",
        "*/\n",
        "\n",
        "let result = 10i32;\n",
        "let age:u32 = 20;\n",
        "let sum:i32 = 15;\n",
        "let mark:isize = 10;\n",
        "let count:usize = 30;\n",
        "println!(\"result value is {}\",result);\n",
        "println!(\"sum is {} and age is {}\",sum,age);\n",
        "println!(\"mark is {} and count is {}\",mark,count);\n"
      ],
      "execution_count": null,
      "outputs": []
    },
    {
      "cell_type": "code",
      "metadata": {
        "id": "GL9SeiUjwCj4",
        "colab_type": "code",
        "colab": {}
      },
      "source": [
        "let result = 10.00;\n",
        "let interest:f32 = 8.35;\n",
        "let cost:f64 = 15000.600;\n",
        "\n",
        "println!(\"result value is {}\",result);\n",
        "println!(\"interest is {}\",interest);\n",
        "println!(\"cost is {}\",cost);\n"
      ],
      "execution_count": null,
      "outputs": []
    },
    {
      "cell_type": "code",
      "metadata": {
        "id": "hAtzInB7wA1j",
        "colab_type": "code",
        "colab": {}
      },
      "source": [
        "// 自我練習，在下方輸入程式碼\n",
        "\n"
      ],
      "execution_count": null,
      "outputs": []
    },
    {
      "cell_type": "markdown",
      "metadata": {
        "id": "dFwFgQVqZ9ki",
        "colab_type": "text"
      },
      "source": [
        "每個有符號整型值的範圍為 $-2^{n-1}$ 到 $2^{n-1} -1$，其中 n 為該整型的位數。例如，i8 存儲值的範圍為 $-2^7$ 到 $2^7 -1$， 這裡我們把 n 替換為8。\n",
        "\n",
        "每個無符號整型值的範圍為 0 到 $2^n-1$。例如，u8 存儲值的範圍為0到 $2^8-1$，即是0到255。\n",
        "\n",
        "---\n",
        "\n",
        "**整數溢位**：當分配給整數變數的值超出該整數在 Rust 中定義值的範圍時，就會發生溢位。\n",
        "\n",
        "溢位 (overflow) 是程式在運算時，超過該型別的最大值；而下溢 (underflow) 則是程式在運算時，小於該數字型別的最小值。在 Rust 中，溢位或下溢會引發錯誤，這是較安全的設計。"
      ]
    },
    {
      "cell_type": "code",
      "metadata": {
        "id": "aoUZGSYeqXsL",
        "colab_type": "code",
        "colab": {}
      },
      "source": [
        "let age:u8 = 255;\n",
        "let weight:u8 = 256;   //溢位值为 1\n",
        "let height:u8 = 257;   //溢位值为 2\n",
        "let score:u8 = 258;    //溢位值为 3\n",
        "\n",
        "println!(\"age is {} \",age);\n",
        "println!(\"weight is {}\",weight);\n",
        "println!(\"height is {}\",height);\n",
        "println!(\"score is {}\",score);\n"
      ],
      "execution_count": null,
      "outputs": []
    },
    {
      "cell_type": "code",
      "metadata": {
        "id": "f_2kBi6VyHvz",
        "colab_type": "code",
        "colab": {}
      },
      "source": [
        "// 自我練習，在下方輸入程式碼\n",
        "\n"
      ],
      "execution_count": null,
      "outputs": []
    },
    {
      "cell_type": "code",
      "metadata": {
        "id": "5FHduA7LSG5k",
        "colab_type": "code",
        "colab": {
          "base_uri": "https://localhost:8080/",
          "height": 105
        },
        "outputId": "d10e0509-a95d-49e6-99a6-bf12e92401ff"
      },
      "source": [
        "// 算數運算\n",
        "\n",
        "let x = 777;\n",
        "let y = 7;\n",
        "\n",
        "//（加法）\t返回運算數的和\n",
        "let add = x + y;\n",
        "println!(\"{}\", add);\n",
        "\n",
        "//（減法）\t返回運算數的差\n",
        "let minus = x - y;\n",
        "println!(\"{}\", minus);\n",
        "\n",
        "//（乘法）\t返回運算數的積\n",
        "let mul = x * y;\n",
        "println!(\"{}\", mul);\n",
        "\n",
        "//（除法）\t返回運算數的商\n",
        "let div = x / y;\n",
        "println!(\"{}\", div);\n"
      ],
      "execution_count": null,
      "outputs": [
        {
          "output_type": "stream",
          "text": [
            "777.1\n",
            "784\n",
            "770\n",
            "5439\n",
            "111.0\n"
          ],
          "name": "stdout"
        }
      ]
    },
    {
      "cell_type": "code",
      "metadata": {
        "id": "XKyvhs121OUS",
        "colab_type": "code",
        "colab": {}
      },
      "source": [
        "// 自我練習，在下方輸入程式碼\n",
        "\n"
      ],
      "execution_count": null,
      "outputs": []
    },
    {
      "cell_type": "markdown",
      "metadata": {
        "id": "iSMFCcxxSR6h",
        "colab_type": "text"
      },
      "source": [
        "### 1.2 字串\n",
        "\n",
        "Rust 的字串有以下兩種：\n",
        "\n",
        "1. String 類別是以 UTF8 編碼、可伸縮的字串\n",
        "2. str 是基礎型別，通常是使用 &str，即指向 str 的參考\n",
        "\n",
        "另外，Rust 還有字元 (char) 型別，同樣也是以 UTF8 編碼。\n",
        "\n",
        "建立字串常數時，預設型別是 &str，即指向 str 的參考，但是，若想要使用 String 類別的方法時，可以轉為 String 物件。"
      ]
    },
    {
      "cell_type": "code",
      "metadata": {
        "id": "Gs-2nWuI_hrB",
        "colab_type": "code",
        "colab": {}
      },
      "source": [
        "let greeting = \"Hello there.\"; // greeting: &'static str\n",
        "\n",
        "let hello: String = String::from(\"hello\");\n",
        "\n",
        "let mut world: String = String::new();\n",
        "world.push_str(\"world\");\n",
        "world.push('!');\n",
        "\n"
      ],
      "execution_count": null,
      "outputs": []
    },
    {
      "cell_type": "code",
      "metadata": {
        "id": "BaKVe9d1SgmV",
        "colab_type": "code",
        "colab": {
          "base_uri": "https://localhost:8080/",
          "height": 87
        },
        "outputId": "d99b72be-5b61-4210-8f7d-153b53ddf08c"
      },
      "source": [
        "x = 'hello'\n",
        "y = 'world'\n",
        "\n",
        "print(x)\n",
        "print(y)\n",
        "\n",
        "# 字串運算跟數值運算不同\n",
        "print(2 + 1)\n",
        "print('2' + '1')\n"
      ],
      "execution_count": null,
      "outputs": [
        {
          "output_type": "stream",
          "text": [
            "hello\n",
            "world\n",
            "3\n",
            "21\n"
          ],
          "name": "stdout"
        }
      ]
    },
    {
      "cell_type": "code",
      "metadata": {
        "id": "IzpsEjrD1LRK",
        "colab_type": "code",
        "colab": {}
      },
      "source": [
        "# 自我練習，在下方輸入程式碼\n",
        "\n"
      ],
      "execution_count": null,
      "outputs": []
    },
    {
      "cell_type": "markdown",
      "metadata": {
        "id": "7B63EC_LSj3i",
        "colab_type": "text"
      },
      "source": [
        "### 1.3 多元數組\n",
        "\n",
        "多元數組（tuple）是一組固定大小的有序（ordered）清單。\n",
        "\n",
        "Tuple 是一般常用來組合型態的方法，可以定義不同的資料型別。\n",
        "\n",
        "Tuple 宣告之後就不能做任何的增減項目的調整。\n",
        "\n"
      ]
    },
    {
      "cell_type": "code",
      "metadata": {
        "id": "iii-oU5xAEUD",
        "colab_type": "code",
        "colab": {
          "base_uri": "https://localhost:8080/",
          "height": 158
        },
        "outputId": "4c322166-cf07-488a-9f87-af9d29f6d041"
      },
      "source": [
        "// 包含 2 個字串常數的 Tuple\n",
        "let a = (\"hello\", \"world\");\n",
        "// 透過索引取值\n",
        "println!(\"a.0 = {}\", a.0);\n",
        "println!(\"a.1 = {}\", a.1);\n",
        "\n",
        "// 包含 3 個整數常數的 Tuple\n",
        "let b: (i32, i32, i32) = (1, 2, 3);\n",
        "println!(\"b.0 = {}\", b.0);\n",
        "println!(\"b.1 = {}\", b.1);\n",
        "println!(\"b.2 = {}\", b.2);\n",
        "\n",
        "// 包含 3 個不同型別常數的 Tuple\n",
        "let c = (\"hello\", 2, 0.3);\n",
        "println!(\"c.0 = {}\", c.0);\n",
        "println!(\"c.1 = {}\", c.1);\n",
        "println!(\"c.2 = {}\", c.2);\n"
      ],
      "execution_count": null,
      "outputs": [
        {
          "output_type": "stream",
          "text": [
            "['hello', 'world']\n",
            "[1, 2, 3]\n",
            "[0.1, 0.2, 0.3, 0.4]\n",
            "['1', 2, 0.3]\n",
            "2\n",
            "3\n",
            "world\n",
            "[0.2, 0.3]\n"
          ],
          "name": "stdout"
        }
      ]
    },
    {
      "cell_type": "code",
      "metadata": {
        "id": "E5BTjCjzBDKN",
        "colab_type": "code",
        "colab": {}
      },
      "source": [
        "# 自我練習，在下方輸入程式碼\n",
        "\n"
      ],
      "execution_count": null,
      "outputs": []
    },
    {
      "cell_type": "markdown",
      "metadata": {
        "id": "Oel_Z_hVaZFT",
        "colab_type": "text"
      },
      "source": [
        "### 1.4 陣列\n",
        "\n",
        "跟很多程式語言一樣，Rust 有用來表現一組事物的清單型別。 最基本的就是 陣列（array），一個固定大小、有相同型別的元素清單。 陣列預設是不可變的（immutable）。\n",
        "\n"
      ]
    },
    {
      "cell_type": "code",
      "metadata": {
        "id": "QxOkVrBSVGOe",
        "colab_type": "code",
        "colab": {
          "base_uri": "https://localhost:8080/",
          "height": 87
        },
        "outputId": "d1c963ed-2ddf-44f6-a062-7ebcf6152084"
      },
      "source": [
        "// 包含 2 個字串常數的 Array\n",
        "let a = [\"hello\", \"world\"];\n",
        "// 透過索引取值\n",
        "println!(\"a[0] = {}\", a[0]);\n",
        "println!(\"a[1] = {}\", a[1]);\n",
        "\n",
        "// 包含 3 個整數常數的 Array\n",
        "let b: [i32; 3]  = [1, 2, 3];\n",
        "println!(\"b[0] = {}\", b[0]);\n",
        "println!(\"b[1] = {}\", b[1]);\n",
        "println!(\"b[2] = {}\", b[2]);\n"
      ],
      "execution_count": null,
      "outputs": [
        {
          "output_type": "stream",
          "text": [
            "['hello', 'world']\n",
            "['hello', 'everybody']\n",
            "['hello', 'everybody', \"let's coding\"]\n",
            "['hello', \"let's coding\"]\n"
          ],
          "name": "stdout"
        }
      ]
    },
    {
      "cell_type": "code",
      "metadata": {
        "id": "3gOzESQ9SoKI",
        "colab_type": "code",
        "colab": {}
      },
      "source": [
        "// 自我練習，在下方輸入程式碼\n",
        "\n"
      ],
      "execution_count": null,
      "outputs": []
    },
    {
      "cell_type": "markdown",
      "metadata": {
        "id": "CIqOZcpWYkDF",
        "colab_type": "text"
      },
      "source": [
        "## 2.迴圈\n",
        "loop 是 Rust 中最簡單的無條件迴圈形式。 使用 loop 關鍵字，會無限循環直到某些終結陳述達成。 \n",
        "\n",
        "而 break 可以用來中斷迴圈，而 continue 可以直接結束這次的迴圈，跳到迴圈的開頭執行。\n"
      ]
    },
    {
      "cell_type": "code",
      "metadata": {
        "id": "gbw5PAjJyaaB",
        "colab_type": "code",
        "colab": {}
      },
      "source": [
        "let mut x = 5;\n",
        "\n",
        "loop {\n",
        "    x += x - 3;\n",
        "\n",
        "    println!(\"{}\", x);\n",
        "\n",
        "    if x % 5 == 0 { break; }\n",
        "}"
      ],
      "execution_count": null,
      "outputs": []
    },
    {
      "cell_type": "markdown",
      "metadata": {
        "id": "YdigL0iRyQbJ",
        "colab_type": "text"
      },
      "source": [
        "while 是有條件的迴圈，只有當條件滿足時才會繼續執行下去。"
      ]
    },
    {
      "cell_type": "code",
      "metadata": {
        "id": "ijio6o_O6S34",
        "colab_type": "code",
        "colab": {}
      },
      "source": [
        "let mut i = 0;\n",
        "while i < 5 {\n",
        "    println!(\"i = {}\", i);\n",
        "    // 這是 i = i + 1; 的縮寫，數學運算都可以這樣寫\n",
        "    if i == 3 {\n",
        "        // 我們在 i 為 3 時就結束迴圈了，所以你會看到從 0 印到 3\n",
        "        break;\n",
        "    }\n",
        "    i += 1;\n",
        "}"
      ],
      "execution_count": null,
      "outputs": []
    },
    {
      "cell_type": "markdown",
      "metadata": {
        "id": "GDNfMNi16b3Q",
        "colab_type": "text"
      },
      "source": [
        "for 是用來遍尋過一個「範圍」的資料，比如像陣列。"
      ]
    },
    {
      "cell_type": "code",
      "metadata": {
        "id": "N8KyZpI46og9",
        "colab_type": "code",
        "colab": {}
      },
      "source": [
        "for item in [1, 2, 3, 4, 5].iter() {\n",
        "    println!(\"{}\", item);\n",
        "}\n",
        "\n",
        "//0..5 是 Rust 的 range 代表的是 0~4 (不含結尾)，含結尾的話要寫成 0..=5 (有等號)\n",
        "for item in 0..5 {\n",
        "    println!(\"{}\", item);\n",
        "}"
      ],
      "execution_count": null,
      "outputs": []
    },
    {
      "cell_type": "code",
      "metadata": {
        "id": "hwTz_hGxYUGj",
        "colab_type": "code",
        "colab": {}
      },
      "source": [
        "// 自我練習，在下方輸入程式碼\n",
        "\n"
      ],
      "execution_count": null,
      "outputs": []
    },
    {
      "cell_type": "markdown",
      "metadata": {
        "id": "rzYzthWtZE7X",
        "colab_type": "text"
      },
      "source": [
        "## 3.條件判斷式 (if ... else ...)\n",
        "讓程式依條件判斷執行不同程式區塊。"
      ]
    },
    {
      "cell_type": "code",
      "metadata": {
        "id": "vfyaIPZuZO0l",
        "colab_type": "code",
        "colab": {
          "base_uri": "https://localhost:8080/",
          "height": 87
        },
        "outputId": "9a89865f-22a0-463b-9f0e-e7714daadc88"
      },
      "source": [
        "/*\n",
        "if 條件判斷 {\n",
        "  條件成立的程式區塊\n",
        "}\n",
        "*/\n",
        "\n",
        "let score = 65;\n",
        "\n",
        "if score >= 60 {\n",
        "  println!(\"很好，請繼續保持\");\n",
        "}\n",
        "\n",
        "/*\n",
        "if 條件判斷 {\n",
        "  條件成立的程式區塊\n",
        "}\n",
        "else {\n",
        "  條件不成立的敘述\n",
        "}\n",
        "*/\n",
        "\n",
        "let score = 50;\n",
        "\n",
        "if score >= 60 {\n",
        "  println!(\"很好，請繼續保持\");\n",
        "}\n",
        "else {\n",
        "  println!(\"加油，請繼續努力\");\n",
        "}\n",
        "\n"
      ],
      "execution_count": null,
      "outputs": [
        {
          "output_type": "stream",
          "text": [
            "請輸入這次的成績？80\n",
            "很好，請繼續保持\n",
            "請輸入這次的成績？59\n",
            "加油，請繼續努力\n"
          ],
          "name": "stdout"
        }
      ]
    },
    {
      "cell_type": "code",
      "metadata": {
        "id": "f0OaRyMPb-D1",
        "colab_type": "code",
        "colab": {}
      },
      "source": [
        "// 自我練習，在下方輸入程式碼\n",
        "\n"
      ],
      "execution_count": null,
      "outputs": []
    },
    {
      "cell_type": "markdown",
      "metadata": {
        "id": "K55AYub3Zbxe",
        "colab_type": "text"
      },
      "source": [
        "## 4.函式(Function)\n",
        "所有的 Rust 程式都至少有一個函式，main 函式，又稱主函式：\n",
        "\n",
        "函式是一段有特定功能、可以重複使用的程式區段。\n",
        "\n",
        "程式開發上會將常用的程式區段宣告為函式，供其他程式碼呼叫。"
      ]
    },
    {
      "cell_type": "code",
      "metadata": {
        "id": "-Y6fduuTZjic",
        "colab_type": "code",
        "colab": {
          "base_uri": "https://localhost:8080/",
          "height": 105
        },
        "outputId": "25d2842b-90d5-4ace-8b86-e7f8e1bf4693"
      },
      "source": [
        "\b/*\n",
        "fn 函式名稱(參數名稱和型別) {\n",
        "    主體的程式敘述\n",
        "}\n",
        "*/\n",
        "\n",
        "// 函式可以有多個參數\n",
        "fn print_info(name: &str, gender: &str) {\n",
        "  println!(\"Name: {}\", name);\n",
        "  println!(\"Gender: {}\", gender);\n",
        "}\n",
        "\n",
        "print_info(\"Jason\", \"Male\");\n",
        "\n",
        "// 宣告一個傳入身高，體重並計算 BMI 的函式\n",
        "fn printBMI(height: f32, weight: f32) {\n",
        "  let bmi = weight / (height*height);\n",
        "  println!(\"BMI is: {}\", bmi);\n",
        "}\n",
        "\n",
        "printBMI(1.8, 80.0);\n",
        "\n",
        "// 函式可以有回傳值\n",
        "// Rust 函式就只能回傳一個值，你可以在「箭頭」後面宣告型別，箭頭是一個破折號（-）加上一個大於符號（>）。\n",
        "fn calBMI(height: f32, weight: f32) -> f32 {\n",
        "    weight / (height*height)\n",
        "}\n",
        "\n",
        "let x = calBMI(1.78, 60.0);\n",
        "println!(\"BMI is: {}\", x);\n"
      ],
      "execution_count": null,
      "outputs": [
        {
          "output_type": "stream",
          "text": [
            "Name: Jason\n",
            "Gender: Male\n",
            "BMI is: 24.691358024691358\n",
            "18.93700290367378\n",
            "BMI is: 18.93700290367378\n"
          ],
          "name": "stdout"
        }
      ]
    },
    {
      "cell_type": "code",
      "metadata": {
        "id": "0-fq2pvmzmI9",
        "colab_type": "code",
        "colab": {}
      },
      "source": [
        "// 自我練習，在下方輸入程式碼\n",
        "\n"
      ],
      "execution_count": null,
      "outputs": []
    },
    {
      "cell_type": "markdown",
      "metadata": {
        "id": "COn1hV4hlY-t",
        "colab_type": "text"
      },
      "source": [
        "## 範例練習 - 終極密碼\n",
        "\n",
        "請透過下列網址進行範例練習\n",
        "\n",
        "https://repl.it/languages/rust"
      ]
    },
    {
      "cell_type": "code",
      "metadata": {
        "id": "QPUui7K_eI2R",
        "colab_type": "code",
        "colab": {}
      },
      "source": [
        "// 這是標準輸入，也就是來自鍵盤的輸入，我們等下要從鍵盤讀玩家的答案。\n",
        "use std::io::stdin;\n",
        "\n",
        "// 這是一備函式，函式就是一段的程式，\n",
        "// 我們可以在一個程式裡根據不同的功能將程式拆成一個個的函式，\n",
        "// 不過今天這個程式並不大，我們直接全部寫在 main 這個函式裡就好了，\n",
        "// main 是個特殊的函式， Rust 的程式都會從 main 開始執行。\n",
        "fn main() {\n",
        "    // 我們在這定義了一個變數 ans 來當作我們的答案，\n",
        "    // 將它設定成 1~100 之間的隨機數字\n",
        "    let ans = 56;\n",
        "\n",
        "    // 這邊又定義了兩個變數，分別代表答案所在的上下範圍，\n",
        "    // 之後我們要把這個範圍做為提示顯示給玩家，\n",
        "    // 因為之後需要修改這兩個變數的值，所以這邊必須加上 mut 來表示這是可修改的\n",
        "    let mut upper_bound = 100;\n",
        "    let mut lower_bound = 1;\n",
        "\n",
        "    // 這是迴圈，它會重覆的執行包在這裡面的內容，\n",
        "    // 因為這邊的迴圈沒有條件，所以它會一直反覆的執行，\n",
        "    // 直到執行到如 break 才會結束，\n",
        "    // 等下還會介紹另外兩種有條件的迴圈\n",
        "    loop {\n",
        "        // 這邊要建一個用來暫放玩家輸入的答案用的變數，\n",
        "        // String 是個存放一串文字用的型態，也就是字串型態，\n",
        "        // String::new 會建立一個空的字串\n",
        "        let mut input = String::new();\n",
        "\n",
        "        // 這邊要印出提示使用者輸入的顯示，同時我們也印出答案所在的上下界，\n",
        "        // println! 在印完會自動的換行，也就是接下來的輸入輸出會從下一行開始，\n",
        "        // 而裡面的 {} 則是用來占位子用的，分別是我們要印出上下界的位置，\n",
        "        // 之後傳給 println! 的變數就會被放在這兩個位置\n",
        "        println!(\n",
        "            \"答案在 {}~{} 之間，請輸入一個數字\",\n",
        "            lower_bound, upper_bound\n",
        "        );\n",
        "\n",
        "        // 這邊我們使用 read_line 從鍵盤讀入一整行進來，\n",
        "        // 也就是到玩家按下 Enter 的字都會讀進來，\n",
        "        // 讀進來的文字會被放進 input 裡，\n",
        "        // 而因為放進 input 代表著修改 input 的內容，\n",
        "        // 所以這邊比較特別一點，我們要加上 &mut 來允許 read_line 修改 input ，\n",
        "        // 而 read_line 會除了把輸入放進 input 外也會傳回是否有成功讀取輸入，\n",
        "        // 於是這邊就使用了 expect 來處理，若回傳的值代表錯誤時，\n",
        "        // expect 會印出使用者傳給它的訊息並結束掉程式\n",
        "        stdin().read_line(&mut input).expect(\"Fail to read input\");\n",
        "\n",
        "        // trim() 會把字串前後的空白字元 (空格與換行) 去掉，\n",
        "        // 而 parse::<i32>() 則是把字串從原本的文字型態轉換成數字，\n",
        "        // 這樣我們在之後才可以拿它來跟答案做比較，\n",
        "        // 我們這邊又重新定義了一次 input 來放轉換成數字後的結果，\n",
        "        // 如果你有學過其它的語言可能會覺得奇怪，為什麼允許這麼做，\n",
        "        // 這也是 Rust 一個有趣的地方， Rust 允許你重覆使用同一個變數名稱，\n",
        "        // parse 也是回傳代表正確或錯誤的 Result 不過這次我們不用 expect 了，\n",
        "        // 這次我們判斷是不是轉換失敗，如果是則代表玩家輸入了不是數字的東西，\n",
        "        // 那我們就讓玩家再輸入一次， match 是用來比對多個條件的語法，之後\n",
        "        // 會有一篇來介紹這個語法，因為它是 Rust 裡一個很強大的功能。\n",
        "        let input = match input.trim().parse::<i32>() {\n",
        "            // Ok 代表的是正確，同時它會包含我們需要的結果\n",
        "            // 因此這邊把轉換完的數字拿出來後回傳\n",
        "            // Rust 裡只要沒有分號，就會是回傳值\n",
        "            Ok(val) => val,\n",
        "            // Err 則是錯誤，它會包含一個錯誤訊息，不過我們其實不需要，\n",
        "            // 這邊我們直接提示使用者要輸入數字並結束這次迴圈的執行\n",
        "            Err(_) => {\n",
        "                println!(\"Please input a number!!!\");\n",
        "                // continue 會直接跳到迴圈的開頭來執行，也就是 loop 的位置\n",
        "                continue;\n",
        "            }\n",
        "        };\n",
        "\n",
        "        // 這邊使用 if 來判斷玩家的答案跟正確答案是不是一樣，\n",
        "        // if 會判斷裡面的判斷式成不成立，如果成立就執行裡面的程式，\n",
        "        // 要注意的是判斷相等是雙等號，因為單個等於已經用在指定了。\n",
        "        if input == ans {\n",
        "            println!(\"恭喜你，你答對了\");\n",
        "            // break 則會直接結束迴圈的執行，\n",
        "            // 於是我們就可以離開這個會一直跑下去的迴圈\n",
        "            break;\n",
        "        // 如果不一樣，而且玩家的答案比正確答案大的話就更新答案的上限\n",
        "        } else if input > ans {\n",
        "            upper_bound = input;\n",
        "        // else 會在 if 的條件不成立時執行，並且可以串接 if 做連續的判斷，\n",
        "        // 像上面一樣。都不是上面的情況的話就更新下限\n",
        "        } else {\n",
        "            lower_bound = input;\n",
        "        }\n",
        "    }\n",
        "}"
      ],
      "execution_count": null,
      "outputs": []
    },
    {
      "cell_type": "markdown",
      "metadata": {
        "id": "7877m1mh0M1s",
        "colab_type": "text"
      },
      "source": [
        "# 自我練習 - 完整 BMI 計算機\n",
        "\n",
        "參考衛福部網站的 BMI 測試功能，開發類似的程式功能\n",
        "\n",
        "http://health99.hpa.gov.tw/OnlinkHealth/Onlink_BMI.aspx"
      ]
    },
    {
      "cell_type": "markdown",
      "metadata": {
        "id": "NIHCsrOZvIfj",
        "colab_type": "text"
      },
      "source": [
        "# 學習資源\n",
        "\n",
        "[X 分鐘速成 Y](https://learnxinyminutes.com/docs/zh-cn/rust-cn/)\n",
        "\n",
        "[Rust by Example](https://doc.rust-lang.org/stable/rust-by-example/)\n",
        "\n",
        "[The Rust Programming Language](https://doc.rust-lang.org/book/)\n",
        "\n",
        "[CodingGame](https://www.codingame.com/)\n",
        "\n",
        "[CodeWars](https://www.codewars.com/)\n",
        "\n",
        "[LeetCode](https://leetcode.com/)"
      ]
    }
  ]
}